{
 "cells": [
  {
   "cell_type": "markdown",
   "metadata": {},
   "source": [
    "## Week 4 NLP\n",
    "### Import Packages"
   ]
  },
  {
   "cell_type": "code",
   "execution_count": 1,
   "metadata": {
    "_cell_guid": "b1076dfc-b9ad-4769-8c92-a6c4dae69d19",
    "_uuid": "8f2839f25d086af736a60e9eeb907d3b93b6e0e5",
    "execution": {
     "iopub.execute_input": "2023-06-16T22:35:43.505315Z",
     "iopub.status.busy": "2023-06-16T22:35:43.504498Z",
     "iopub.status.idle": "2023-06-16T22:35:48.072588Z",
     "shell.execute_reply": "2023-06-16T22:35:48.071162Z"
    },
    "papermill": {
     "duration": 4.581866,
     "end_time": "2023-06-16T22:35:48.075593",
     "exception": false,
     "start_time": "2023-06-16T22:35:43.493727",
     "status": "completed"
    },
    "tags": []
   },
   "outputs": [
    {
     "name": "stdout",
     "output_type": "stream",
     "text": [
      "[nltk_data] Downloading package punkt to /usr/share/nltk_data...\n",
      "[nltk_data]   Package punkt is already up-to-date!\n",
      "[nltk_data] Downloading package wordnet to /usr/share/nltk_data...\n",
      "[nltk_data]   Package wordnet is already up-to-date!\n",
      "Archive:  /usr/share/nltk_data/corpora/wordnet.zip\n",
      "   creating: /usr/share/nltk_data/corpora/wordnet/\n",
      "  inflating: /usr/share/nltk_data/corpora/wordnet/lexnames  \n",
      "  inflating: /usr/share/nltk_data/corpora/wordnet/data.verb  \n",
      "  inflating: /usr/share/nltk_data/corpora/wordnet/index.adv  \n",
      "  inflating: /usr/share/nltk_data/corpora/wordnet/adv.exc  \n",
      "  inflating: /usr/share/nltk_data/corpora/wordnet/index.verb  \n",
      "  inflating: /usr/share/nltk_data/corpora/wordnet/cntlist.rev  \n",
      "  inflating: /usr/share/nltk_data/corpora/wordnet/data.adj  \n",
      "  inflating: /usr/share/nltk_data/corpora/wordnet/index.adj  \n",
      "  inflating: /usr/share/nltk_data/corpora/wordnet/LICENSE  \n",
      "  inflating: /usr/share/nltk_data/corpora/wordnet/citation.bib  \n",
      "  inflating: /usr/share/nltk_data/corpora/wordnet/noun.exc  \n",
      "  inflating: /usr/share/nltk_data/corpora/wordnet/verb.exc  \n",
      "  inflating: /usr/share/nltk_data/corpora/wordnet/README  \n",
      "  inflating: /usr/share/nltk_data/corpora/wordnet/index.sense  \n",
      "  inflating: /usr/share/nltk_data/corpora/wordnet/data.noun  \n",
      "  inflating: /usr/share/nltk_data/corpora/wordnet/data.adv  \n",
      "  inflating: /usr/share/nltk_data/corpora/wordnet/index.noun  \n",
      "  inflating: /usr/share/nltk_data/corpora/wordnet/adj.exc  \n"
     ]
    }
   ],
   "source": [
    "import pandas as pd\n",
    "import numpy as np\n",
    "import seaborn as sns\n",
    "import matplotlib.pyplot as plt\n",
    "import re, string\n",
    "import nltk\n",
    "from nltk.tokenize import word_tokenize\n",
    "from nltk.corpus import stopwords\n",
    "from nltk.tokenize import word_tokenize\n",
    "from nltk.stem import SnowballStemmer\n",
    "from nltk.corpus import wordnet\n",
    "from nltk.stem import WordNetLemmatizer\n",
    "\n",
    "nltk.download(\"punkt\")\n",
    "nltk.download(\"wordnet\")\n",
    "!unzip /usr/share/nltk_data/corpora/wordnet.zip -d /usr/share/nltk_data/corpora/\n",
    "\n",
    "from sklearn.model_selection import train_test_split\n",
    "from sklearn.linear_model import LogisticRegression\n",
    "from sklearn.linear_model import SGDClassifier\n",
    "from sklearn.naive_bayes import MultinomialNB\n",
    "from sklearn.metrics import classification_report, f1_score, accuracy_score, confusion_matrix\n",
    "from sklearn.metrics import roc_curve, auc, roc_auc_score\n",
    "\n",
    "from sklearn.feature_extraction.text import TfidfVectorizer\n"
   ]
  },
  {
   "cell_type": "markdown",
   "metadata": {
    "papermill": {
     "duration": 0.008238,
     "end_time": "2023-06-16T22:35:48.092428",
     "exception": false,
     "start_time": "2023-06-16T22:35:48.084190",
     "status": "completed"
    },
    "tags": []
   },
   "source": [
    "## Import Data"
   ]
  },
  {
   "cell_type": "code",
   "execution_count": 2,
   "metadata": {
    "execution": {
     "iopub.execute_input": "2023-06-16T22:35:48.112115Z",
     "iopub.status.busy": "2023-06-16T22:35:48.111640Z",
     "iopub.status.idle": "2023-06-16T22:35:48.212106Z",
     "shell.execute_reply": "2023-06-16T22:35:48.210954Z"
    },
    "papermill": {
     "duration": 0.114453,
     "end_time": "2023-06-16T22:35:48.215357",
     "exception": false,
     "start_time": "2023-06-16T22:35:48.100904",
     "status": "completed"
    },
    "tags": []
   },
   "outputs": [
    {
     "name": "stdout",
     "output_type": "stream",
     "text": [
      "(7613, 5)\n"
     ]
    },
    {
     "data": {
      "text/html": [
       "<div>\n",
       "<style scoped>\n",
       "    .dataframe tbody tr th:only-of-type {\n",
       "        vertical-align: middle;\n",
       "    }\n",
       "\n",
       "    .dataframe tbody tr th {\n",
       "        vertical-align: top;\n",
       "    }\n",
       "\n",
       "    .dataframe thead th {\n",
       "        text-align: right;\n",
       "    }\n",
       "</style>\n",
       "<table border=\"1\" class=\"dataframe\">\n",
       "  <thead>\n",
       "    <tr style=\"text-align: right;\">\n",
       "      <th></th>\n",
       "      <th>id</th>\n",
       "      <th>keyword</th>\n",
       "      <th>location</th>\n",
       "      <th>text</th>\n",
       "      <th>target</th>\n",
       "    </tr>\n",
       "  </thead>\n",
       "  <tbody>\n",
       "    <tr>\n",
       "      <th>0</th>\n",
       "      <td>1</td>\n",
       "      <td>NaN</td>\n",
       "      <td>NaN</td>\n",
       "      <td>Our Deeds are the Reason of this #earthquake M...</td>\n",
       "      <td>1</td>\n",
       "    </tr>\n",
       "    <tr>\n",
       "      <th>1</th>\n",
       "      <td>4</td>\n",
       "      <td>NaN</td>\n",
       "      <td>NaN</td>\n",
       "      <td>Forest fire near La Ronge Sask. Canada</td>\n",
       "      <td>1</td>\n",
       "    </tr>\n",
       "    <tr>\n",
       "      <th>2</th>\n",
       "      <td>5</td>\n",
       "      <td>NaN</td>\n",
       "      <td>NaN</td>\n",
       "      <td>All residents asked to 'shelter in place' are ...</td>\n",
       "      <td>1</td>\n",
       "    </tr>\n",
       "    <tr>\n",
       "      <th>3</th>\n",
       "      <td>6</td>\n",
       "      <td>NaN</td>\n",
       "      <td>NaN</td>\n",
       "      <td>13,000 people receive #wildfires evacuation or...</td>\n",
       "      <td>1</td>\n",
       "    </tr>\n",
       "    <tr>\n",
       "      <th>4</th>\n",
       "      <td>7</td>\n",
       "      <td>NaN</td>\n",
       "      <td>NaN</td>\n",
       "      <td>Just got sent this photo from Ruby #Alaska as ...</td>\n",
       "      <td>1</td>\n",
       "    </tr>\n",
       "  </tbody>\n",
       "</table>\n",
       "</div>"
      ],
      "text/plain": [
       "   id keyword location                                               text  \\\n",
       "0   1     NaN      NaN  Our Deeds are the Reason of this #earthquake M...   \n",
       "1   4     NaN      NaN             Forest fire near La Ronge Sask. Canada   \n",
       "2   5     NaN      NaN  All residents asked to 'shelter in place' are ...   \n",
       "3   6     NaN      NaN  13,000 people receive #wildfires evacuation or...   \n",
       "4   7     NaN      NaN  Just got sent this photo from Ruby #Alaska as ...   \n",
       "\n",
       "   target  \n",
       "0       1  \n",
       "1       1  \n",
       "2       1  \n",
       "3       1  \n",
       "4       1  "
      ]
     },
     "execution_count": 2,
     "metadata": {},
     "output_type": "execute_result"
    }
   ],
   "source": [
    "df_train=pd.read_csv(\"/kaggle/input/nlp-getting-started/train.csv\")\n",
    "print(df_train.shape)\n",
    "df_train.head()"
   ]
  },
  {
   "cell_type": "markdown",
   "metadata": {
    "papermill": {
     "duration": 0.00847,
     "end_time": "2023-06-16T22:35:48.232630",
     "exception": false,
     "start_time": "2023-06-16T22:35:48.224160",
     "status": "completed"
    },
    "tags": []
   },
   "source": [
    "## Perform EDA"
   ]
  },
  {
   "cell_type": "code",
   "execution_count": 3,
   "metadata": {
    "execution": {
     "iopub.execute_input": "2023-06-16T22:35:48.253622Z",
     "iopub.status.busy": "2023-06-16T22:35:48.253021Z",
     "iopub.status.idle": "2023-06-16T22:35:48.537295Z",
     "shell.execute_reply": "2023-06-16T22:35:48.536038Z"
    },
    "papermill": {
     "duration": 0.297691,
     "end_time": "2023-06-16T22:35:48.540625",
     "exception": false,
     "start_time": "2023-06-16T22:35:48.242934",
     "status": "completed"
    },
    "tags": []
   },
   "outputs": [
    {
     "name": "stdout",
     "output_type": "stream",
     "text": [
      "0    4342\n",
      "1    3271\n",
      "Name: target, dtype: int64\n"
     ]
    },
    {
     "data": {
      "text/plain": [
       "<Axes: ylabel='target'>"
      ]
     },
     "execution_count": 3,
     "metadata": {},
     "output_type": "execute_result"
    },
    {
     "data": {
      "image/png": "[encoded data removed]",
      "text/plain": [
       "<Figure size 500x300 with 1 Axes>"
      ]
     },
     "metadata": {},
     "output_type": "display_data"
    }
   ],
   "source": [
    "x = df_train[\"target\"].value_counts()\n",
    "print(x)\n",
    "plt.figure(figsize=(5,3))\n",
    "sns.barplot(x = x.index, y = x)"
   ]
  },
  {
   "cell_type": "code",
   "execution_count": 4,
   "metadata": {
    "execution": {
     "iopub.execute_input": "2023-06-16T22:35:48.563941Z",
     "iopub.status.busy": "2023-06-16T22:35:48.563485Z",
     "iopub.status.idle": "2023-06-16T22:35:48.582366Z",
     "shell.execute_reply": "2023-06-16T22:35:48.581416Z"
    },
    "papermill": {
     "duration": 0.034308,
     "end_time": "2023-06-16T22:35:48.584723",
     "exception": false,
     "start_time": "2023-06-16T22:35:48.550415",
     "status": "completed"
    },
    "tags": []
   },
   "outputs": [
    {
     "data": {
      "text/plain": [
       "id             0\n",
       "keyword       61\n",
       "location    2533\n",
       "text           0\n",
       "target         0\n",
       "dtype: int64"
      ]
     },
     "execution_count": 4,
     "metadata": {},
     "output_type": "execute_result"
    }
   ],
   "source": [
    "df_train.isna().sum()"
   ]
  },
  {
   "cell_type": "markdown",
   "metadata": {
    "papermill": {
     "duration": 0.009064,
     "end_time": "2023-06-16T22:35:48.603312",
     "exception": false,
     "start_time": "2023-06-16T22:35:48.594248",
     "status": "completed"
    },
    "tags": []
   },
   "source": [
    "## Data Transformation and pre-processing"
   ]
  },
  {
   "cell_type": "code",
   "execution_count": 5,
   "metadata": {
    "execution": {
     "iopub.execute_input": "2023-06-16T22:35:48.625402Z",
     "iopub.status.busy": "2023-06-16T22:35:48.624350Z",
     "iopub.status.idle": "2023-06-16T22:35:48.631496Z",
     "shell.execute_reply": "2023-06-16T22:35:48.630480Z"
    },
    "papermill": {
     "duration": 0.020281,
     "end_time": "2023-06-16T22:35:48.633790",
     "exception": false,
     "start_time": "2023-06-16T22:35:48.613509",
     "status": "completed"
    },
    "tags": []
   },
   "outputs": [
    {
     "data": {
      "text/plain": [
       "'13,000 people receive #wildfires evacuation orders in California '"
      ]
     },
     "execution_count": 5,
     "metadata": {},
     "output_type": "execute_result"
    }
   ],
   "source": [
    "df_train[\"text\"][3]"
   ]
  },
  {
   "cell_type": "code",
   "execution_count": 6,
   "metadata": {
    "execution": {
     "iopub.execute_input": "2023-06-16T22:35:48.657078Z",
     "iopub.status.busy": "2023-06-16T22:35:48.656365Z",
     "iopub.status.idle": "2023-06-16T22:35:48.667122Z",
     "shell.execute_reply": "2023-06-16T22:35:48.665770Z"
    },
    "papermill": {
     "duration": 0.026237,
     "end_time": "2023-06-16T22:35:48.669714",
     "exception": false,
     "start_time": "2023-06-16T22:35:48.643477",
     "status": "completed"
    },
    "tags": []
   },
   "outputs": [
    {
     "name": "stdout",
     "output_type": "stream",
     "text": [
      " people receive wildfires evacuation orders in california\n"
     ]
    }
   ],
   "source": [
    "text = '13,000 people receive #wildfires evacuation orders in California '\n",
    "\n",
    "# switch to lowercase, remove punctuations & characters and then strip\n",
    "def preprocess(text):\n",
    "    text = text.lower() # change text\n",
    "    text = text.strip()  # toss leading/trailing blanks \n",
    "    text = re.compile('<.*?>').sub('', text) # toss html tags\n",
    "    text = re.compile('[%s]' % re.escape(string.punctuation)).sub(\" \", text)  # remove punctuation\n",
    "    text = re.sub('\\s+', ' ', text)  # toss extra tabs\n",
    "    text = re.sub(r'\\[[0-9]*\\]',' ',text)\n",
    "    text = re.sub(r'[^\\w\\s]', '', str(text).lower().strip())\n",
    "    text = re.sub(r'\\d',' ',text)\n",
    "    text = re.sub(r'\\s+',' ',text) \n",
    "    return text\n",
    "\n",
    "text=preprocess(text)\n",
    "print(text)"
   ]
  },
  {
   "cell_type": "code",
   "execution_count": 7,
   "metadata": {
    "execution": {
     "iopub.execute_input": "2023-06-16T22:35:48.690930Z",
     "iopub.status.busy": "2023-06-16T22:35:48.690409Z",
     "iopub.status.idle": "2023-06-16T22:35:48.704178Z",
     "shell.execute_reply": "2023-06-16T22:35:48.702911Z"
    },
    "papermill": {
     "duration": 0.027209,
     "end_time": "2023-06-16T22:35:48.706618",
     "exception": false,
     "start_time": "2023-06-16T22:35:48.679409",
     "status": "completed"
    },
    "tags": []
   },
   "outputs": [
    {
     "name": "stdout",
     "output_type": "stream",
     "text": [
      "people receive wildfires evacuation orders california\n"
     ]
    }
   ],
   "source": [
    "# remove stopwords\n",
    "def stopword(string):\n",
    "    a= [i for i in string.split() if i not in stopwords.words(\"english\")]\n",
    "    return \" \".join(a)\n",
    "\n",
    "text = stopword(text)\n",
    "print(text)"
   ]
  },
  {
   "cell_type": "code",
   "execution_count": 8,
   "metadata": {
    "execution": {
     "iopub.execute_input": "2023-06-16T22:35:48.735091Z",
     "iopub.status.busy": "2023-06-16T22:35:48.733927Z",
     "iopub.status.idle": "2023-06-16T22:35:48.758057Z",
     "shell.execute_reply": "2023-06-16T22:35:48.756483Z"
    },
    "papermill": {
     "duration": 0.043609,
     "end_time": "2023-06-16T22:35:48.760745",
     "exception": false,
     "start_time": "2023-06-16T22:35:48.717136",
     "status": "completed"
    },
    "tags": []
   },
   "outputs": [
    {
     "name": "stdout",
     "output_type": "stream",
     "text": [
      "peopl receiv wildfir evacu order california\n"
     ]
    }
   ],
   "source": [
    "# stemming\n",
    "snow = SnowballStemmer(\"english\")\n",
    "def stemming(string):\n",
    "    a=[snow.stem(i) for i in word_tokenize(string)]\n",
    "    return \" \".join(a)\n",
    "text = stemming(text)\n",
    "print(text)"
   ]
  },
  {
   "cell_type": "code",
   "execution_count": 9,
   "metadata": {
    "execution": {
     "iopub.execute_input": "2023-06-16T22:35:48.789898Z",
     "iopub.status.busy": "2023-06-16T22:35:48.789487Z",
     "iopub.status.idle": "2023-06-16T22:35:48.798103Z",
     "shell.execute_reply": "2023-06-16T22:35:48.796111Z"
    },
    "papermill": {
     "duration": 0.026233,
     "end_time": "2023-06-16T22:35:48.802741",
     "exception": false,
     "start_time": "2023-06-16T22:35:48.776508",
     "status": "completed"
    },
    "tags": []
   },
   "outputs": [],
   "source": [
    "# lemmatization\n",
    "wl = WordNetLemmatizer()\n",
    " \n",
    "def get_wordnet_pos(tag):\n",
    "    if tag.startswith('J'):\n",
    "        return wordnet.ADJ\n",
    "    elif tag.startswith('V'):\n",
    "        return wordnet.VERB\n",
    "    elif tag.startswith('N'):\n",
    "        return wordnet.NOUN\n",
    "    elif tag.startswith('R'):\n",
    "        return wordnet.ADV\n",
    "    else:\n",
    "        return wordnet.NOUN"
   ]
  },
  {
   "cell_type": "code",
   "execution_count": 10,
   "metadata": {
    "execution": {
     "iopub.execute_input": "2023-06-16T22:35:48.831650Z",
     "iopub.status.busy": "2023-06-16T22:35:48.831035Z",
     "iopub.status.idle": "2023-06-16T22:35:51.587122Z",
     "shell.execute_reply": "2023-06-16T22:35:51.585913Z"
    },
    "papermill": {
     "duration": 2.773377,
     "end_time": "2023-06-16T22:35:51.589917",
     "exception": false,
     "start_time": "2023-06-16T22:35:48.816540",
     "status": "completed"
    },
    "tags": []
   },
   "outputs": [
    {
     "name": "stdout",
     "output_type": "stream",
     "text": [
      "peopl receiv wildfir evacu order california\n"
     ]
    }
   ],
   "source": [
    "# tokenization\n",
    "def lemmatizer(string):\n",
    "    word_pos_tags = nltk.pos_tag(word_tokenize(string))\n",
    "    a=[wl.lemmatize(tag[0], get_wordnet_pos(tag[1])) for idx, tag in enumerate(word_pos_tags)]\n",
    "    return \" \".join(a)\n",
    "\n",
    "text = lemmatizer(text)\n",
    "print(text)"
   ]
  },
  {
   "cell_type": "code",
   "execution_count": 11,
   "metadata": {
    "execution": {
     "iopub.execute_input": "2023-06-16T22:35:51.613566Z",
     "iopub.status.busy": "2023-06-16T22:35:51.613107Z",
     "iopub.status.idle": "2023-06-16T22:36:24.391607Z",
     "shell.execute_reply": "2023-06-16T22:36:24.390335Z"
    },
    "papermill": {
     "duration": 32.805753,
     "end_time": "2023-06-16T22:36:24.405582",
     "exception": false,
     "start_time": "2023-06-16T22:35:51.599829",
     "status": "completed"
    },
    "tags": []
   },
   "outputs": [
    {
     "data": {
      "text/html": [
       "<div>\n",
       "<style scoped>\n",
       "    .dataframe tbody tr th:only-of-type {\n",
       "        vertical-align: middle;\n",
       "    }\n",
       "\n",
       "    .dataframe tbody tr th {\n",
       "        vertical-align: top;\n",
       "    }\n",
       "\n",
       "    .dataframe thead th {\n",
       "        text-align: right;\n",
       "    }\n",
       "</style>\n",
       "<table border=\"1\" class=\"dataframe\">\n",
       "  <thead>\n",
       "    <tr style=\"text-align: right;\">\n",
       "      <th></th>\n",
       "      <th>id</th>\n",
       "      <th>keyword</th>\n",
       "      <th>location</th>\n",
       "      <th>text</th>\n",
       "      <th>target</th>\n",
       "      <th>clean_text</th>\n",
       "    </tr>\n",
       "  </thead>\n",
       "  <tbody>\n",
       "    <tr>\n",
       "      <th>0</th>\n",
       "      <td>1</td>\n",
       "      <td>NaN</td>\n",
       "      <td>NaN</td>\n",
       "      <td>Our Deeds are the Reason of this #earthquake M...</td>\n",
       "      <td>1</td>\n",
       "      <td>deed reason earthquake may allah forgive u</td>\n",
       "    </tr>\n",
       "    <tr>\n",
       "      <th>1</th>\n",
       "      <td>4</td>\n",
       "      <td>NaN</td>\n",
       "      <td>NaN</td>\n",
       "      <td>Forest fire near La Ronge Sask. Canada</td>\n",
       "      <td>1</td>\n",
       "      <td>forest fire near la ronge sask canada</td>\n",
       "    </tr>\n",
       "    <tr>\n",
       "      <th>2</th>\n",
       "      <td>5</td>\n",
       "      <td>NaN</td>\n",
       "      <td>NaN</td>\n",
       "      <td>All residents asked to 'shelter in place' are ...</td>\n",
       "      <td>1</td>\n",
       "      <td>resident ask shelter place notify officer evac...</td>\n",
       "    </tr>\n",
       "    <tr>\n",
       "      <th>3</th>\n",
       "      <td>6</td>\n",
       "      <td>NaN</td>\n",
       "      <td>NaN</td>\n",
       "      <td>13,000 people receive #wildfires evacuation or...</td>\n",
       "      <td>1</td>\n",
       "      <td>people receive wildfire evacuation order calif...</td>\n",
       "    </tr>\n",
       "    <tr>\n",
       "      <th>4</th>\n",
       "      <td>7</td>\n",
       "      <td>NaN</td>\n",
       "      <td>NaN</td>\n",
       "      <td>Just got sent this photo from Ruby #Alaska as ...</td>\n",
       "      <td>1</td>\n",
       "      <td>get sent photo ruby alaska smoke wildfires pou...</td>\n",
       "    </tr>\n",
       "  </tbody>\n",
       "</table>\n",
       "</div>"
      ],
      "text/plain": [
       "   id keyword location                                               text  \\\n",
       "0   1     NaN      NaN  Our Deeds are the Reason of this #earthquake M...   \n",
       "1   4     NaN      NaN             Forest fire near La Ronge Sask. Canada   \n",
       "2   5     NaN      NaN  All residents asked to 'shelter in place' are ...   \n",
       "3   6     NaN      NaN  13,000 people receive #wildfires evacuation or...   \n",
       "4   7     NaN      NaN  Just got sent this photo from Ruby #Alaska as ...   \n",
       "\n",
       "   target                                         clean_text  \n",
       "0       1         deed reason earthquake may allah forgive u  \n",
       "1       1              forest fire near la ronge sask canada  \n",
       "2       1  resident ask shelter place notify officer evac...  \n",
       "3       1  people receive wildfire evacuation order calif...  \n",
       "4       1  get sent photo ruby alaska smoke wildfires pou...  "
      ]
     },
     "execution_count": 11,
     "metadata": {},
     "output_type": "execute_result"
    }
   ],
   "source": [
    "def finalpreprocess(string):\n",
    "    return lemmatizer(stopword(preprocess(string)))\n",
    "\n",
    "df_train[\"clean_text\"] = df_train[\"text\"].apply(lambda x: finalpreprocess(x))\n",
    "df_train.head()"
   ]
  },
  {
   "cell_type": "markdown",
   "metadata": {
    "papermill": {
     "duration": 0.010677,
     "end_time": "2023-06-16T22:36:24.427012",
     "exception": false,
     "start_time": "2023-06-16T22:36:24.416335",
     "status": "completed"
    },
    "tags": []
   },
   "source": [
    "## Train Model"
   ]
  },
  {
   "cell_type": "code",
   "execution_count": 12,
   "metadata": {
    "execution": {
     "iopub.execute_input": "2023-06-16T22:36:24.451708Z",
     "iopub.status.busy": "2023-06-16T22:36:24.451261Z",
     "iopub.status.idle": "2023-06-16T22:36:24.459555Z",
     "shell.execute_reply": "2023-06-16T22:36:24.458508Z"
    },
    "papermill": {
     "duration": 0.024958,
     "end_time": "2023-06-16T22:36:24.462220",
     "exception": false,
     "start_time": "2023-06-16T22:36:24.437262",
     "status": "completed"
    },
    "tags": []
   },
   "outputs": [],
   "source": [
    "X_train, X_val, y_train, y_val = train_test_split(df_train[\"clean_text\"], df_train[\"target\"], test_size=0.2, shuffle=True)"
   ]
  },
  {
   "cell_type": "code",
   "execution_count": 13,
   "metadata": {
    "execution": {
     "iopub.execute_input": "2023-06-16T22:36:24.484731Z",
     "iopub.status.busy": "2023-06-16T22:36:24.483659Z",
     "iopub.status.idle": "2023-06-16T22:36:24.714089Z",
     "shell.execute_reply": "2023-06-16T22:36:24.712423Z"
    },
    "papermill": {
     "duration": 0.244805,
     "end_time": "2023-06-16T22:36:24.717177",
     "exception": false,
     "start_time": "2023-06-16T22:36:24.472372",
     "status": "completed"
    },
    "tags": []
   },
   "outputs": [],
   "source": [
    "# TF-IDF\n",
    "# switch x_train to a vector since the model can only run on numbers and not words - fit and transform\n",
    "tfidf_vectorizer = TfidfVectorizer(use_idf=True)\n",
    "X_train_vectors_tfidf = tfidf_vectorizer.fit_transform(X_train)\n",
    "# only transform x_test\n",
    "X_val_vectors_tfidf = tfidf_vectorizer.transform(X_val)"
   ]
  },
  {
   "cell_type": "markdown",
   "metadata": {
    "papermill": {
     "duration": 0.009932,
     "end_time": "2023-06-16T22:36:24.757354",
     "exception": false,
     "start_time": "2023-06-16T22:36:24.747422",
     "status": "completed"
    },
    "tags": []
   },
   "source": [
    "## Logistic Regression"
   ]
  },
  {
   "cell_type": "code",
   "execution_count": 14,
   "metadata": {
    "execution": {
     "iopub.execute_input": "2023-06-16T22:36:24.779929Z",
     "iopub.status.busy": "2023-06-16T22:36:24.779512Z",
     "iopub.status.idle": "2023-06-16T22:36:24.888032Z",
     "shell.execute_reply": "2023-06-16T22:36:24.886476Z"
    },
    "papermill": {
     "duration": 0.125747,
     "end_time": "2023-06-16T22:36:24.893688",
     "exception": false,
     "start_time": "2023-06-16T22:36:24.767941",
     "status": "completed"
    },
    "tags": []
   },
   "outputs": [
    {
     "name": "stdout",
     "output_type": "stream",
     "text": [
      "              precision    recall  f1-score   support\n",
      "\n",
      "           0       0.82      0.80      0.81       889\n",
      "           1       0.73      0.76      0.75       634\n",
      "\n",
      "    accuracy                           0.79      1523\n",
      "   macro avg       0.78      0.78      0.78      1523\n",
      "weighted avg       0.79      0.79      0.79      1523\n",
      "\n",
      "Confusion Matrix:\n",
      " [[714 175]\n",
      " [152 482]]\n",
      "\n",
      "AUC: 0.8619998012866689\n"
     ]
    }
   ],
   "source": [
    "lr = LogisticRegression(solver=\"liblinear\", C=10, penalty=\"l2\")\n",
    "lr.fit(X_train_vectors_tfidf, y_train)\n",
    "\n",
    "# predicting y value for test dataset\n",
    "y_pred = lr.predict(X_val_vectors_tfidf)\n",
    "y_prob = lr.predict_proba(X_val_vectors_tfidf)[:,1]\n",
    " \n",
    "print(classification_report(y_val,y_pred))\n",
    "print(\"Confusion Matrix:\\n\", confusion_matrix(y_val, y_pred))\n",
    " \n",
    "fpr, tpr, thresholds = roc_curve(y_val, y_prob)\n",
    "roc_auc = auc(fpr, tpr)\n",
    "print(\"\\nAUC:\", roc_auc)"
   ]
  },
  {
   "cell_type": "markdown",
   "metadata": {
    "papermill": {
     "duration": 0.021469,
     "end_time": "2023-06-16T22:36:24.936881",
     "exception": false,
     "start_time": "2023-06-16T22:36:24.915412",
     "status": "completed"
    },
    "tags": []
   },
   "source": [
    "## Naive Bayes"
   ]
  },
  {
   "cell_type": "code",
   "execution_count": 15,
   "metadata": {
    "execution": {
     "iopub.execute_input": "2023-06-16T22:36:24.977701Z",
     "iopub.status.busy": "2023-06-16T22:36:24.977295Z",
     "iopub.status.idle": "2023-06-16T22:36:25.004396Z",
     "shell.execute_reply": "2023-06-16T22:36:25.003000Z"
    },
    "papermill": {
     "duration": 0.047961,
     "end_time": "2023-06-16T22:36:25.007100",
     "exception": false,
     "start_time": "2023-06-16T22:36:24.959139",
     "status": "completed"
    },
    "tags": []
   },
   "outputs": [
    {
     "name": "stdout",
     "output_type": "stream",
     "text": [
      "              precision    recall  f1-score   support\n",
      "\n",
      "           0       0.80      0.90      0.85       889\n",
      "           1       0.83      0.69      0.75       634\n",
      "\n",
      "    accuracy                           0.81      1523\n",
      "   macro avg       0.81      0.79      0.80      1523\n",
      "weighted avg       0.81      0.81      0.81      1523\n",
      "\n",
      "Confusion Matrix:\n",
      " [[798  91]\n",
      " [197 437]]\n",
      "\n",
      "AUC: 0.8557775901040761\n"
     ]
    }
   ],
   "source": [
    "nb = MultinomialNB()\n",
    "nb.fit(X_train_vectors_tfidf, y_train)\n",
    "\n",
    "# predicting y value for test dataset\n",
    "y_pred = nb.predict(X_val_vectors_tfidf)\n",
    "y_prob = nb.predict_proba(X_val_vectors_tfidf)[:,1]\n",
    " \n",
    "print(classification_report(y_val,y_pred))\n",
    "print(\"Confusion Matrix:\\n\", confusion_matrix(y_val, y_pred))\n",
    " \n",
    "fpr, tpr, thresholds = roc_curve(y_val, y_prob)\n",
    "roc_auc = auc(fpr, tpr)\n",
    "print(\"\\nAUC:\", roc_auc)"
   ]
  },
  {
   "cell_type": "markdown",
   "metadata": {
    "papermill": {
     "duration": 0.009961,
     "end_time": "2023-06-16T22:36:25.028159",
     "exception": false,
     "start_time": "2023-06-16T22:36:25.018198",
     "status": "completed"
    },
    "tags": []
   },
   "source": [
    "## Test Model Fitness"
   ]
  },
  {
   "cell_type": "code",
   "execution_count": 16,
   "metadata": {
    "execution": {
     "iopub.execute_input": "2023-06-16T22:36:25.050974Z",
     "iopub.status.busy": "2023-06-16T22:36:25.050558Z",
     "iopub.status.idle": "2023-06-16T22:36:25.082902Z",
     "shell.execute_reply": "2023-06-16T22:36:25.081404Z"
    },
    "papermill": {
     "duration": 0.047356,
     "end_time": "2023-06-16T22:36:25.085749",
     "exception": false,
     "start_time": "2023-06-16T22:36:25.038393",
     "status": "completed"
    },
    "tags": []
   },
   "outputs": [],
   "source": [
    "df_test = pd.read_csv(\"/kaggle/input/nlp-getting-started/test.csv\")"
   ]
  },
  {
   "cell_type": "code",
   "execution_count": 17,
   "metadata": {
    "execution": {
     "iopub.execute_input": "2023-06-16T22:36:25.108795Z",
     "iopub.status.busy": "2023-06-16T22:36:25.107857Z",
     "iopub.status.idle": "2023-06-16T22:36:39.538594Z",
     "shell.execute_reply": "2023-06-16T22:36:39.537387Z"
    },
    "papermill": {
     "duration": 14.445278,
     "end_time": "2023-06-16T22:36:39.541515",
     "exception": false,
     "start_time": "2023-06-16T22:36:25.096237",
     "status": "completed"
    },
    "tags": []
   },
   "outputs": [
    {
     "name": "stdout",
     "output_type": "stream",
     "text": [
      "   id keyword location                                               text  \\\n",
      "0   0     NaN      NaN                 Just happened a terrible car crash   \n",
      "1   2     NaN      NaN  Heard about #earthquake is different cities, s...   \n",
      "2   3     NaN      NaN  there is a forest fire at spot pond, geese are...   \n",
      "3   9     NaN      NaN           Apocalypse lighting. #Spokane #wildfires   \n",
      "4  11     NaN      NaN      Typhoon Soudelor kills 28 in China and Taiwan   \n",
      "\n",
      "                                          clean_text  predict_prob  target  \n",
      "0                          happen terrible car crash      0.883480       1  \n",
      "1  heard earthquake different city stay safe ever...      0.768656       1  \n",
      "2  forest fire spot pond geese flee across street...      0.918312       1  \n",
      "3                  apocalypse light spokane wildfire      0.885199       1  \n",
      "4                 typhoon soudelor kill china taiwan      0.994929       1  \n"
     ]
    }
   ],
   "source": [
    "# testing on new dataset with the best model\n",
    "df_test[\"clean_text\"] = df_test[\"text\"].apply(lambda x: finalpreprocess(x))\n",
    "X_test = df_test[\"clean_text\"] \n",
    "# converting X_test to vector\n",
    "X_vector = tfidf_vectorizer.transform(X_test)\n",
    "# using the trained model on X_vector\n",
    "y_pred = lr.predict(X_vector)\n",
    "y_prob = lr.predict_proba(X_vector)[:,1]\n",
    "df_test[\"predict_prob\"] = y_prob\n",
    "df_test[\"target\"] = y_pred\n",
    "print(df_test.head())\n",
    "\n",
    "final = df_test[[\"id\", \"target\"]].reset_index(drop=True)\n",
    "final.to_csv(\"submission.csv\", index=False)"
   ]
  }
 ],
 "metadata": {
  "kernelspec": {
   "display_name": "Python 3",
   "language": "python",
   "name": "python3"
  },
  "language_info": {
   "codemirror_mode": {
    "name": "ipython",
    "version": 3
   },
   "file_extension": ".py",
   "mimetype": "text/x-python",
   "name": "python",
   "nbconvert_exporter": "python",
   "pygments_lexer": "ipython3",
   "version": "3.8.4"
  },
  "papermill": {
   "default_parameters": {},
   "duration": 71.805836,
   "end_time": "2023-06-16T22:36:41.805677",
   "environment_variables": {},
   "exception": null,
   "input_path": "__notebook__.ipynb",
   "output_path": "__notebook__.ipynb",
   "parameters": {},
   "start_time": "2023-06-16T22:35:29.999841",
   "version": "2.4.0"
  }
 },
 "nbformat": 4,
 "nbformat_minor": 5
}
